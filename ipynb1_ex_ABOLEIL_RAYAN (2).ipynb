{
  "nbformat": 4,
  "nbformat_minor": 0,
  "metadata": {
    "colab": {
      "provenance": []
    },
    "kernelspec": {
      "name": "python3",
      "display_name": "Python 3"
    },
    "language_info": {
      "name": "python"
    }
  },
  "cells": [
    {
      "cell_type": "code",
      "execution_count": 1,
      "metadata": {
        "id": "YMQZ7iD8MuUU"
      },
      "outputs": [],
      "source": [
        "#1\n",
        "from sklearn.datasets import load_breast_cancer\n",
        "\n",
        "my_data = load_breast_cancer()\n"
      ]
    },
    {
      "cell_type": "code",
      "source": [
        "#2\n",
        "from sklearn.manifold import TSNE\n",
        "import numpy as np\n",
        "import pandas as pd\n",
        "import seaborn as sns\n",
        "import matplotlib.pyplot as plt\n"
      ],
      "metadata": {
        "id": "IG6PMTGu7rTy"
      },
      "execution_count": 2,
      "outputs": []
    },
    {
      "cell_type": "code",
      "source": [
        "#3\n",
        "from sklearn.model_selection import train_test_split\n",
        "import numpy as np\n",
        "\n",
        "\n",
        "X = np.random.rand(100, 5)\n",
        "y = np.random.randint(0, 2, size=100)\n",
        "\n",
        "X_train, X_test, y_train, y_test = train_test_split(\n",
        "    X,\n",
        "    y,\n",
        "\n",
        "    test_size=0.2,\n",
        "    random_state=42,\n",
        "    shuffle=True,\n",
        "    stratify=y\n",
        ")\n",
        "\n",
        "print(\"X_train shape:\", X_train.shape)\n",
        "print(\"X_test shape:\", X_test.shape)\n",
        "print(\"y_train shape:\", y_train.shape)\n",
        "print(\"y_test shape:\", y_test.shape)\n"
      ],
      "metadata": {
        "colab": {
          "base_uri": "https://localhost:8080/"
        },
        "id": "Z-o4ep_J8aEI",
        "outputId": "434da4a2-9270-4eae-c3d2-818451cbb27b"
      },
      "execution_count": 3,
      "outputs": [
        {
          "output_type": "stream",
          "name": "stdout",
          "text": [
            "X_train shape: (80, 5)\n",
            "X_test shape: (20, 5)\n",
            "y_train shape: (80,)\n",
            "y_test shape: (20,)\n"
          ]
        }
      ]
    },
    {
      "cell_type": "code",
      "source": [
        "from sklearn.tree import DecisionTreeClassifier\n",
        "from sklearn.metrics import accuracy_score, precision_score, recall_score, f1_score, confusion_matrix\n",
        "from sklearn.datasets import load_breast_cancer\n",
        "from sklearn.model_selection import train_test_split\n",
        "\n",
        "# טעינת הנתונים\n",
        "data = load_breast_cancer()\n",
        "X = data.data\n",
        "y = data.target\n",
        "\n",
        "# חלוקת הנתונים\n",
        "X_train, X_test, y_train, y_test = train_test_split(\n",
        "    X, y, test_size=0.2, random_state=42, stratify=y\n",
        ")\n",
        "\n",
        "# יצירת המודל עם הפרמטרים הרצויים\n",
        "model = DecisionTreeClassifier(\n",
        "    criterion='entropy',\n",
        "    splitter='best',\n",
        "    max_depth=5,\n",
        "    min_samples_split=2,\n",
        "    min_samples_leaf=1,\n",
        "    min_weight_fraction_leaf=0.0,\n",
        "    max_features=None,\n",
        "    random_state=42,\n",
        "    max_leaf_nodes=15,\n",
        "    min_impurity_decrease=0.0,\n",
        "    class_weight={0: 1, 1: 2},\n",
        "    ccp_alpha=0.01\n",
        ")\n",
        "\n",
        "# אימון המודל על נתוני האימון\n",
        "model.fit(X_train, y_train)\n",
        "\n",
        "# חיזוי על סט הבדיקה\n",
        "y_test_pred = model.predict(X_test)\n",
        "\n",
        "# חישוב מדדים והדפסתם\n",
        "# 1. Accuracy\n",
        "accuracy = accuracy_score(y_test, y_test_pred)\n",
        "print(f\"Accuracy: {accuracy:.2f}\")\n",
        "\n",
        "# 2. Precision\n",
        "precision = precision_score(y_test, y_test_pred, average='binary')\n",
        "print(f\"Precision: {precision:.2f}\")\n",
        "\n",
        "# 3. Recall\n",
        "recall = recall_score(y_test, y_test_pred, average='binary')\n",
        "print(f\"Recall: {recall:.2f}\")\n",
        "\n",
        "# 4. F1-Score\n",
        "f1 = f1_score(y_test, y_test_pred, average='binary')\n",
        "print(f\"F1-Score: {f1:.2f}\")\n",
        "\n",
        "# 5. Confusion Matrix\n",
        "conf_matrix = confusion_matrix(y_test, y_test_pred)\n",
        "print(\"\\nConfusion Matrix:\")\n",
        "print(conf_matrix)\n"
      ],
      "metadata": {
        "colab": {
          "base_uri": "https://localhost:8080/"
        },
        "id": "sekyfbeE9bNT",
        "outputId": "f918bc83-77db-475d-ec51-f62322bee24a"
      },
      "execution_count": 4,
      "outputs": [
        {
          "output_type": "stream",
          "name": "stdout",
          "text": [
            "Accuracy: 0.93\n",
            "Precision: 0.94\n",
            "Recall: 0.94\n",
            "F1-Score: 0.94\n",
            "\n",
            "Confusion Matrix:\n",
            "[[38  4]\n",
            " [ 4 68]]\n"
          ]
        }
      ]
    },
    {
      "cell_type": "code",
      "source": [
        "from sklearn.ensemble import RandomForestClassifier\n",
        "from sklearn.metrics import accuracy_score, classification_report\n",
        "from sklearn.datasets import load_breast_cancer\n",
        "from sklearn.model_selection import train_test_split\n",
        "\n",
        "data = load_breast_cancer()\n",
        "X = data.data\n",
        "y = data.target\n",
        "\n",
        "X_train, X_test, y_train, y_test = train_test_split(\n",
        "    X, y, test_size=0.2, random_state=42, stratify=y\n",
        ")\n",
        "\n",
        "model = RandomForestClassifier(\n",
        "    n_estimators=300,\n",
        "    criterion='entropy',\n",
        "    max_depth=20,\n",
        "    min_samples_split=4,\n",
        "    min_samples_leaf=2,\n",
        "    min_weight_fraction_leaf=0.0,\n",
        "    max_features='sqrt',\n",
        "    max_leaf_nodes=None,\n",
        "    min_impurity_decrease=0.001,\n",
        "    bootstrap=True,\n",
        "    oob_score=True,\n",
        "    n_jobs=-1,\n",
        "    random_state=42,\n",
        "    verbose=0,\n",
        "    warm_start=False,\n",
        "    class_weight='balanced',\n",
        "    ccp_alpha=0.0005,\n",
        "    max_samples=0.95\n",
        ")\n",
        "\n",
        "model.fit(X_train, y_train)\n",
        "\n",
        "y_test_pred = model.predict(X_test)\n",
        "test_accuracy = accuracy_score(y_test, y_test_pred)\n",
        "\n",
        "print(f\"Test Accuracy: {test_accuracy:.2f}\")\n",
        "print(\"\\nClassification Report:\")\n",
        "print(classification_report(y_test, y_test_pred, target_names=data.target_names))\n"
      ],
      "metadata": {
        "colab": {
          "base_uri": "https://localhost:8080/"
        },
        "id": "lcGdrPSnPknK",
        "outputId": "70228aaf-88ef-4a2c-d326-665409d7ca4a"
      },
      "execution_count": 10,
      "outputs": [
        {
          "output_type": "stream",
          "name": "stdout",
          "text": [
            "Test Accuracy: 0.96\n",
            "\n",
            "Classification Report:\n",
            "              precision    recall  f1-score   support\n",
            "\n",
            "   malignant       0.95      0.93      0.94        42\n",
            "      benign       0.96      0.97      0.97        72\n",
            "\n",
            "    accuracy                           0.96       114\n",
            "   macro avg       0.96      0.95      0.95       114\n",
            "weighted avg       0.96      0.96      0.96       114\n",
            "\n"
          ]
        }
      ]
    },
    {
      "cell_type": "code",
      "source": [
        "\n"
      ],
      "metadata": {
        "id": "d88o30kp09fv"
      },
      "execution_count": null,
      "outputs": []
    },
    {
      "cell_type": "code",
      "source": [
        "from sklearn.ensemble import AdaBoostClassifier\n",
        "from sklearn.tree import DecisionTreeClassifier\n",
        "from sklearn.datasets import make_classification\n",
        "from sklearn.model_selection import train_test_split\n",
        "from sklearn.metrics import classification_report, accuracy_score\n",
        "\n",
        "# יצירת נתונים לדוגמה\n",
        "X, y = make_classification(\n",
        "    n_samples=1000,\n",
        "    n_features=20,\n",
        "    n_informative=15,\n",
        "    n_redundant=5,\n",
        "    random_state=42\n",
        ")\n",
        "\n",
        "# חלוקת הנתונים\n",
        "X_train, X_test, y_train, y_test = train_test_split(X, y, test_size=0.2, random_state=42)\n",
        "\n",
        "# מודל בסיסי\n",
        "base_estimator = DecisionTreeClassifier(\n",
        "    max_depth=3,  # עומק מקסימלי לעץ הבסיסי\n",
        "    random_state=42\n",
        ")\n",
        "\n",
        "# הגדרת המודל AdaBoost עם כל הפרמטרים\n",
        "model_adaboost = AdaBoostClassifier(\n",
        "    estimator=base_estimator,      # המודל הבסיסי שמשמש לעצי ההחלטה\n",
        "    n_estimators=200,               # מספר המקסימום של עצי החלטה (ברירת מחדל 50)\n",
        "    learning_rate=0.3,             # קצב הלמידה (ברירת מחדל 1.0)\n",
        "    algorithm='SAMME.R',           # האלגוריתם (ברירת מחדל 'SAMME.R')\n",
        "    random_state=42                # מצב אקראי להבטחת שחזור תוצאות\n",
        ")\n",
        "\n",
        "# אימון המודל\n",
        "model_adaboost.fit(X_train, y_train)\n",
        "\n",
        "# חיזוי\n",
        "y_pred = model_adaboost.predict(X_test)\n",
        "\n",
        "# הערכת המודל\n",
        "accuracy = accuracy_score(y_test, y_pred)\n",
        "print(f\"Test Accuracy: {accuracy:.2f}\")\n",
        "print(\"\\nClassification Report:\")\n",
        "print(classification_report(y_test, y_pred))\n"
      ],
      "metadata": {
        "id": "AOwNZiRcSGVH",
        "colab": {
          "base_uri": "https://localhost:8080/"
        },
        "outputId": "16e443d2-f9af-41b2-b42d-cbb8dd6d7d9d"
      },
      "execution_count": 12,
      "outputs": [
        {
          "output_type": "stream",
          "name": "stderr",
          "text": [
            "/usr/local/lib/python3.10/dist-packages/sklearn/ensemble/_weight_boosting.py:527: FutureWarning: The SAMME.R algorithm (the default) is deprecated and will be removed in 1.6. Use the SAMME algorithm to circumvent this warning.\n",
            "  warnings.warn(\n"
          ]
        },
        {
          "output_type": "stream",
          "name": "stdout",
          "text": [
            "Test Accuracy: 0.89\n",
            "\n",
            "Classification Report:\n",
            "              precision    recall  f1-score   support\n",
            "\n",
            "           0       0.90      0.90      0.90       106\n",
            "           1       0.88      0.88      0.88        94\n",
            "\n",
            "    accuracy                           0.89       200\n",
            "   macro avg       0.89      0.89      0.89       200\n",
            "weighted avg       0.89      0.89      0.89       200\n",
            "\n"
          ]
        }
      ]
    },
    {
      "cell_type": "code",
      "source": [
        "from sklearn.ensemble import AdaBoostClassifier, RandomForestClassifier\n",
        "from sklearn.tree import DecisionTreeClassifier\n",
        "from sklearn.metrics import accuracy_score, f1_score, classification_report\n",
        "\n",
        "# מודל בסיסי של Decision Tree\n",
        "dt_model = DecisionTreeClassifier(\n",
        "    max_depth=3,\n",
        "    min_samples_split=10,\n",
        "    min_samples_leaf=5,\n",
        "    random_state=42\n",
        ")\n",
        "\n",
        "# אימון Decision Tree\n",
        "dt_model.fit(X_train, y_train)\n",
        "y_test_pred_dt = dt_model.predict(X_test)\n",
        "f1_dt = f1_score(y_test, y_test_pred_dt)\n",
        "\n",
        "# הגדרת Random Forest\n",
        "rf_model = RandomForestClassifier(\n",
        "    n_estimators=100,\n",
        "    max_depth=5,\n",
        "    random_state=42\n",
        ")\n",
        "\n",
        "# אימון Random Forest\n",
        "rf_model.fit(X_train, y_train)\n",
        "y_test_pred_rf = rf_model.predict(X_test)\n",
        "f1_rf = f1_score(y_test, y_test_pred_rf)\n",
        "\n",
        "# הגדרת AdaBoost\n",
        "base_estimator = DecisionTreeClassifier(\n",
        "    max_depth=3,\n",
        "    min_samples_split=10,\n",
        "    min_samples_leaf=5,\n",
        "    random_state=42\n",
        ")\n",
        "\n",
        "model_ab = AdaBoostClassifier(\n",
        "    estimator=base_estimator,\n",
        "    n_estimators=200,\n",
        "    learning_rate=0.1,\n",
        "    algorithm='SAMME.R',\n",
        "    random_state=42\n",
        ")\n",
        "\n",
        "# אימון AdaBoost\n",
        "model_ab.fit(X_train, y_train)\n",
        "y_test_pred_ab = model_ab.predict(X_test)\n",
        "f1_ab = f1_score(y_test, y_test_pred_ab)\n",
        "\n",
        "# השוואת המודלים\n",
        "f1_scores = {\"Decision Tree\": f1_dt, \"Random Forest\": f1_rf, \"AdaBoost\": f1_ab}\n",
        "winner = max(f1_scores, key=f1_scores.get)\n",
        "\n",
        "# תוצאות\n",
        "print(f\"Decision Tree F1-Score: {f1_dt:.2f}\")\n",
        "print(f\"Random Forest F1-Score: {f1_rf:.2f}\")\n",
        "print(f\"AdaBoost F1-Score: {f1_ab:.2f}\")\n",
        "print(f\"\\nThe best performing model is: {winner} with F1-Score: {f1_scores[winner]:.2f}\")\n",
        "\n",
        "# דוח מפורט למודל הטוב ביותר\n",
        "if winner == \"Decision Tree\":\n",
        "    print(\"\\nClassification Report for Decision Tree:\")\n",
        "    print(classification_report(y_test, y_test_pred_dt))\n",
        "elif winner == \"Random Forest\":\n",
        "    print(\"\\nClassification Report for Random Forest:\")\n",
        "    print(classification_report(y_test, y_test_pred_rf))\n",
        "elif winner == \"AdaBoost\":\n",
        "    print(\"\\nClassification Report for AdaBoost:\")\n",
        "    print(classification_report(y_test, y_test_pred_ab))\n"
      ],
      "metadata": {
        "id": "Hs7fuf0E7Oax",
        "colab": {
          "base_uri": "https://localhost:8080/"
        },
        "outputId": "5bd8d693-d2ad-436b-a9f0-8762a85a4d21"
      },
      "execution_count": 13,
      "outputs": [
        {
          "output_type": "stream",
          "name": "stderr",
          "text": [
            "/usr/local/lib/python3.10/dist-packages/sklearn/ensemble/_weight_boosting.py:527: FutureWarning: The SAMME.R algorithm (the default) is deprecated and will be removed in 1.6. Use the SAMME algorithm to circumvent this warning.\n",
            "  warnings.warn(\n"
          ]
        },
        {
          "output_type": "stream",
          "name": "stdout",
          "text": [
            "Decision Tree F1-Score: 0.77\n",
            "Random Forest F1-Score: 0.87\n",
            "AdaBoost F1-Score: 0.89\n",
            "\n",
            "The best performing model is: AdaBoost with F1-Score: 0.89\n",
            "\n",
            "Classification Report for AdaBoost:\n",
            "              precision    recall  f1-score   support\n",
            "\n",
            "           0       0.89      0.92      0.91       106\n",
            "           1       0.91      0.87      0.89        94\n",
            "\n",
            "    accuracy                           0.90       200\n",
            "   macro avg       0.90      0.90      0.90       200\n",
            "weighted avg       0.90      0.90      0.90       200\n",
            "\n"
          ]
        }
      ]
    }
  ]
}