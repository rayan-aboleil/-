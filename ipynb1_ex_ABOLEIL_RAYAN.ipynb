{
  "nbformat": 4,
  "nbformat_minor": 0,
  "metadata": {
    "colab": {
      "provenance": []
    },
    "kernelspec": {
      "name": "python3",
      "display_name": "Python 3"
    },
    "language_info": {
      "name": "python"
    }
  },
  "cells": [
    {
      "cell_type": "code",
      "execution_count": 222,
      "metadata": {
        "id": "YMQZ7iD8MuUU"
      },
      "outputs": [],
      "source": [
        "#1\n",
        "from sklearn.datasets import load_breast_cancer\n",
        "\n",
        "my_data = load_breast_cancer()\n"
      ]
    },
    {
      "cell_type": "code",
      "source": [
        "#2\n",
        "from sklearn.manifold import TSNE\n",
        "import numpy as np\n",
        "import pandas as pd\n",
        "import seaborn as sns\n",
        "import matplotlib.pyplot as plt\n"
      ],
      "metadata": {
        "id": "IG6PMTGu7rTy"
      },
      "execution_count": 223,
      "outputs": []
    },
    {
      "cell_type": "code",
      "source": [
        "#3\n",
        "from sklearn.model_selection import train_test_split\n",
        "import numpy as np\n",
        "\n",
        "\n",
        "X = np.random.rand(100, 5)\n",
        "y = np.random.randint(0, 2, size=100)\n",
        "\n",
        "X_train, X_test, y_train, y_test = train_test_split(\n",
        "    X,\n",
        "    y,\n",
        "\n",
        "    test_size=0.2,\n",
        "    random_state=42,\n",
        "    shuffle=True,\n",
        "    stratify=y\n",
        ")\n",
        "\n",
        "print(\"X_train shape:\", X_train.shape)\n",
        "print(\"X_test shape:\", X_test.shape)\n",
        "print(\"y_train shape:\", y_train.shape)\n",
        "print(\"y_test shape:\", y_test.shape)\n"
      ],
      "metadata": {
        "colab": {
          "base_uri": "https://localhost:8080/"
        },
        "id": "Z-o4ep_J8aEI",
        "outputId": "f97d38dd-7422-4066-c64f-03da5e60f9bf"
      },
      "execution_count": 224,
      "outputs": [
        {
          "output_type": "stream",
          "name": "stdout",
          "text": [
            "X_train shape: (80, 5)\n",
            "X_test shape: (20, 5)\n",
            "y_train shape: (80,)\n",
            "y_test shape: (20,)\n"
          ]
        }
      ]
    },
    {
      "cell_type": "code",
      "source": [
        "from sklearn.tree import DecisionTreeClassifier\n",
        "from sklearn.metrics import accuracy_score, precision_score, recall_score, f1_score, confusion_matrix\n",
        "from sklearn.datasets import load_breast_cancer\n",
        "from sklearn.model_selection import train_test_split\n",
        "\n",
        "# טעינת הנתונים\n",
        "data = load_breast_cancer()\n",
        "X = data.data\n",
        "y = data.target\n",
        "\n",
        "# חלוקת הנתונים\n",
        "X_train, X_test, y_train, y_test = train_test_split(\n",
        "    X, y, test_size=0.2, random_state=42, stratify=y\n",
        ")\n",
        "\n",
        "# יצירת המודל עם הפרמטרים הרצויים\n",
        "model = DecisionTreeClassifier(\n",
        "    criterion='entropy',\n",
        "    splitter='best',\n",
        "    max_depth=5,\n",
        "    min_samples_split=2,\n",
        "    min_samples_leaf=1,\n",
        "    min_weight_fraction_leaf=0.0,\n",
        "    max_features=None,\n",
        "    random_state=42,\n",
        "    max_leaf_nodes=15,\n",
        "    min_impurity_decrease=0.0,\n",
        "    class_weight={0: 1, 1: 2},\n",
        "    ccp_alpha=0.01\n",
        ")\n",
        "\n",
        "# אימון המודל על נתוני האימון\n",
        "model.fit(X_train, y_train)\n",
        "\n",
        "# חיזוי על סט הבדיקה\n",
        "y_test_pred = model.predict(X_test)\n",
        "\n",
        "# חישוב מדדים והדפסתם\n",
        "# 1. Accuracy\n",
        "accuracy = accuracy_score(y_test, y_test_pred)\n",
        "print(f\"Accuracy: {accuracy:.2f}\")\n",
        "\n",
        "# 2. Precision\n",
        "precision = precision_score(y_test, y_test_pred, average='binary')\n",
        "print(f\"Precision: {precision:.2f}\")\n",
        "\n",
        "# 3. Recall\n",
        "recall = recall_score(y_test, y_test_pred, average='binary')\n",
        "print(f\"Recall: {recall:.2f}\")\n",
        "\n",
        "# 4. F1-Score\n",
        "f1 = f1_score(y_test, y_test_pred, average='binary')\n",
        "print(f\"F1-Score: {f1:.2f}\")\n",
        "\n",
        "# 5. Confusion Matrix\n",
        "conf_matrix = confusion_matrix(y_test, y_test_pred)\n",
        "print(\"\\nConfusion Matrix:\")\n",
        "print(conf_matrix)\n"
      ],
      "metadata": {
        "colab": {
          "base_uri": "https://localhost:8080/"
        },
        "id": "sekyfbeE9bNT",
        "outputId": "9648514d-598a-4d4e-f630-749b935c9313"
      },
      "execution_count": 226,
      "outputs": [
        {
          "output_type": "stream",
          "name": "stdout",
          "text": [
            "Accuracy: 0.93\n",
            "Precision: 0.94\n",
            "Recall: 0.94\n",
            "F1-Score: 0.94\n",
            "\n",
            "Confusion Matrix:\n",
            "[[38  4]\n",
            " [ 4 68]]\n"
          ]
        }
      ]
    },
    {
      "cell_type": "code",
      "source": [
        "from sklearn.ensemble import RandomForestClassifier\n",
        "from sklearn.metrics import accuracy_score, classification_report\n",
        "from sklearn.datasets import load_breast_cancer\n",
        "from sklearn.model_selection import train_test_split\n",
        "\n",
        "data = load_breast_cancer()\n",
        "X = data.data\n",
        "y = data.target\n",
        "\n",
        "X_train, X_test, y_train, y_test = train_test_split(\n",
        "    X, y, test_size=0.2, random_state=42, stratify=y\n",
        ")\n",
        "\n",
        "model = RandomForestClassifier(\n",
        "    n_estimators=300,\n",
        "    criterion='entropy',\n",
        "    max_depth=20,\n",
        "    min_samples_split=4,\n",
        "    min_samples_leaf=2,\n",
        "    min_weight_fraction_leaf=0.0,\n",
        "    max_features='sqrt',\n",
        "    max_leaf_nodes=None,\n",
        "    min_impurity_decrease=0.001,\n",
        "    bootstrap=True,\n",
        "    oob_score=True,\n",
        "    n_jobs=-1,\n",
        "    random_state=42,\n",
        "    verbose=0,\n",
        "    warm_start=False,\n",
        "    class_weight='balanced',\n",
        "    ccp_alpha=0.0005,\n",
        "    max_samples=0.95\n",
        ")\n",
        "\n",
        "model.fit(X_train, y_train)\n",
        "\n",
        "y_test_pred = model.predict(X_test)\n",
        "test_accuracy = accuracy_score(y_test, y_test_pred)\n",
        "\n",
        "print(f\"Test Accuracy: {test_accuracy:.2f}\")\n",
        "print(\"\\nClassification Report:\")\n",
        "print(classification_report(y_test, y_test_pred, target_names=data.target_names))\n"
      ],
      "metadata": {
        "colab": {
          "base_uri": "https://localhost:8080/"
        },
        "id": "lcGdrPSnPknK",
        "outputId": "c96fd894-8614-4046-96e5-67c946df0715"
      },
      "execution_count": 227,
      "outputs": [
        {
          "output_type": "stream",
          "name": "stdout",
          "text": [
            "Test Accuracy: 0.96\n",
            "\n",
            "Classification Report:\n",
            "              precision    recall  f1-score   support\n",
            "\n",
            "   malignant       0.95      0.93      0.94        42\n",
            "      benign       0.96      0.97      0.97        72\n",
            "\n",
            "    accuracy                           0.96       114\n",
            "   macro avg       0.96      0.95      0.95       114\n",
            "weighted avg       0.96      0.96      0.96       114\n",
            "\n"
          ]
        }
      ]
    },
    {
      "cell_type": "code",
      "source": [
        "\n"
      ],
      "metadata": {
        "id": "d88o30kp09fv"
      },
      "execution_count": null,
      "outputs": []
    },
    {
      "cell_type": "code",
      "source": [
        "from sklearn.ensemble import AdaBoostClassifier\n",
        "from sklearn.tree import DecisionTreeClassifier\n",
        "from sklearn.datasets import make_classification\n",
        "from sklearn.model_selection import train_test_split\n",
        "from sklearn.metrics import accuracy_score, classification_report\n",
        "\n",
        "# יצירת נתונים\n",
        "X, y = make_classification(\n",
        "    n_samples=1000,\n",
        "    n_features=20,\n",
        "    n_informative=15,\n",
        "    n_redundant=5,\n",
        "    random_state=42\n",
        ")\n",
        "\n",
        "# חלוקת הנתונים\n",
        "X_train, X_test, y_train, y_test = train_test_split(X, y, test_size=0.2, random_state=42)\n",
        "\n",
        "# מודל בסיסי של DecisionTree\n",
        "base_estimator = DecisionTreeClassifier(\n",
        "    max_depth=3,\n",
        "    min_samples_split=10,\n",
        "    min_samples_leaf=5,\n",
        "    random_state=42\n",
        ")\n",
        "\n",
        "# הגדרת AdaBoost\n",
        "model = AdaBoostClassifier(\n",
        "    estimator=base_estimator,\n",
        "    n_estimators=200,\n",
        "    learning_rate=0.1,\n",
        "    algorithm='SAMME.R',\n",
        "    random_state=42\n",
        ")\n",
        "\n",
        "# אימון המודל\n",
        "model.fit(X_train, y_train)\n",
        "\n",
        "# חיזוי\n",
        "y_test_pred = model.predict(X_test)\n",
        "\n",
        "# הערכת המודל\n",
        "accuracy = accuracy_score(y_test, y_test_pred)\n",
        "print(f\"Test Accuracy: {accuracy:.2f}\")\n",
        "print(\"\\nClassification Report:\")\n",
        "print(classification_report(y_test, y_test_pred))\n"
      ],
      "metadata": {
        "id": "AOwNZiRcSGVH",
        "colab": {
          "base_uri": "https://localhost:8080/"
        },
        "outputId": "e6ef495c-f688-468a-a0cf-91099c9f3693"
      },
      "execution_count": 228,
      "outputs": [
        {
          "output_type": "stream",
          "name": "stderr",
          "text": [
            "/usr/local/lib/python3.10/dist-packages/sklearn/ensemble/_weight_boosting.py:527: FutureWarning: The SAMME.R algorithm (the default) is deprecated and will be removed in 1.6. Use the SAMME algorithm to circumvent this warning.\n",
            "  warnings.warn(\n"
          ]
        },
        {
          "output_type": "stream",
          "name": "stdout",
          "text": [
            "Test Accuracy: 0.90\n",
            "\n",
            "Classification Report:\n",
            "              precision    recall  f1-score   support\n",
            "\n",
            "           0       0.89      0.92      0.91       106\n",
            "           1       0.91      0.87      0.89        94\n",
            "\n",
            "    accuracy                           0.90       200\n",
            "   macro avg       0.90      0.90      0.90       200\n",
            "weighted avg       0.90      0.90      0.90       200\n",
            "\n"
          ]
        }
      ]
    },
    {
      "cell_type": "code",
      "source": [
        "from sklearn.tree import DecisionTreeClassifier\n",
        "from sklearn.ensemble import RandomForestClassifier, AdaBoostClassifier\n",
        "from sklearn.metrics import accuracy_score, confusion_matrix, precision_score, recall_score, f1_score\n",
        "from sklearn.datasets import make_classification\n",
        "from sklearn.model_selection import train_test_split\n",
        "\n",
        "# Generate synthetic dataset\n",
        "X, y = make_classification(n_samples=1000, n_features=20, random_state=42)\n",
        "X_train, X_test, y_train, y_test = train_test_split(X, y, test_size=0.2, random_state=42)\n",
        "\n",
        "# Initialize models\n",
        "model_decision_tree = DecisionTreeClassifier(max_depth=5, random_state=42)\n",
        "model_random_forest = RandomForestClassifier(n_estimators=100, max_depth=15, random_state=42)\n",
        "model_adaboost = AdaBoostClassifier(n_estimators=100, learning_rate=0.5, random_state=42)\n",
        "\n",
        "# Train models\n",
        "models = {\n",
        "    \"Decision Tree\": model_decision_tree,\n",
        "    \"Random Forest\": model_random_forest,\n",
        "    \"AdaBoost\": model_adaboost\n",
        "}\n",
        "\n",
        "metrics = {}\n",
        "\n",
        "for name, model in models.items():\n",
        "    # Train and predict\n",
        "    model.fit(X_train, y_train)\n",
        "    y_pred = model.predict(X_test)\n",
        "\n",
        "    # Calculate metrics\n",
        "    accuracy = accuracy_score(y_test, y_pred)\n",
        "    precision = precision_score(y_test, y_pred, average='weighted')\n",
        "    recall = recall_score(y_test, y_pred, average='weighted')\n",
        "    f1 = f1_score(y_test, y_pred, average='weighted')\n",
        "    confusion = confusion_matrix(y_test, y_pred)\n",
        "\n",
        "    metrics[name] = {\n",
        "        \"Accuracy\": accuracy,\n",
        "        \"Precision\": precision,\n",
        "        \"Recall\": recall,\n",
        "        \"F1-Score\": f1,\n",
        "        \"Confusion Matrix\": confusion\n",
        "    }\n",
        "\n",
        "# Print metrics for each model\n",
        "for name, metric in metrics.items():\n",
        "    print(f\"\\n{name}:\")\n",
        "    for key, value in metric.items():\n",
        "        if key == \"Confusion Matrix\":\n",
        "            print(f\"  {key}:\\n{value}\")\n",
        "        else:\n",
        "            print(f\"  {key}: {value:.2f}\")\n",
        "\n",
        "# Determine the best model based on F1-Score\n",
        "decisive_metric = \"F1-Score\"\n",
        "winner = max(metrics, key=lambda x: metrics[x][decisive_metric])\n",
        "\n",
        "print(f\"\\nThe best model is: {winner} with {decisive_metric} = {metrics[winner][decisive_metric]:.2f}\")\n"
      ],
      "metadata": {
        "colab": {
          "base_uri": "https://localhost:8080/"
        },
        "id": "Hs7fuf0E7Oax",
        "outputId": "37f59ebe-d327-410f-db83-3868500711c8"
      },
      "execution_count": 229,
      "outputs": [
        {
          "output_type": "stream",
          "name": "stderr",
          "text": [
            "/usr/local/lib/python3.10/dist-packages/sklearn/ensemble/_weight_boosting.py:527: FutureWarning: The SAMME.R algorithm (the default) is deprecated and will be removed in 1.6. Use the SAMME algorithm to circumvent this warning.\n",
            "  warnings.warn(\n"
          ]
        },
        {
          "output_type": "stream",
          "name": "stdout",
          "text": [
            "\n",
            "Decision Tree:\n",
            "  Accuracy: 0.88\n",
            "  Precision: 0.88\n",
            "  Recall: 0.88\n",
            "  F1-Score: 0.88\n",
            "  Confusion Matrix:\n",
            "[[85  8]\n",
            " [17 90]]\n",
            "\n",
            "Random Forest:\n",
            "  Accuracy: 0.90\n",
            "  Precision: 0.90\n",
            "  Recall: 0.90\n",
            "  F1-Score: 0.90\n",
            "  Confusion Matrix:\n",
            "[[88  5]\n",
            " [16 91]]\n",
            "\n",
            "AdaBoost:\n",
            "  Accuracy: 0.84\n",
            "  Precision: 0.84\n",
            "  Recall: 0.84\n",
            "  F1-Score: 0.84\n",
            "  Confusion Matrix:\n",
            "[[81 12]\n",
            " [20 87]]\n",
            "\n",
            "The best model is: Random Forest with F1-Score = 0.90\n"
          ]
        }
      ]
    }
  ]
}